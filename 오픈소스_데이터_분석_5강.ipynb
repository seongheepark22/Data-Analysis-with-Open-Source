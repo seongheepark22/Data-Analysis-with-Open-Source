{
  "nbformat": 4,
  "nbformat_minor": 0,
  "metadata": {
    "colab": {
      "provenance": [],
      "include_colab_link": true
    },
    "kernelspec": {
      "name": "python3",
      "display_name": "Python 3"
    },
    "language_info": {
      "name": "python"
    }
  },
  "cells": [
    {
      "cell_type": "markdown",
      "metadata": {
        "id": "view-in-github",
        "colab_type": "text"
      },
      "source": [
        "<a href=\"https://colab.research.google.com/github/seongheepark22/Data-Analysis-with-Open-Source/blob/main/%EC%98%A4%ED%94%88%EC%86%8C%EC%8A%A4_%EB%8D%B0%EC%9D%B4%ED%84%B0_%EB%B6%84%EC%84%9D_5%EA%B0%95.ipynb\" target=\"_parent\"><img src=\"https://colab.research.google.com/assets/colab-badge.svg\" alt=\"Open In Colab\"/></a>"
      ]
    },
    {
      "cell_type": "markdown",
      "source": [
        "# 오픈소스 기반 데이터 분석 5강 - 데이터 저장"
      ],
      "metadata": {
        "id": "O4kC4JMknVnK"
      }
    },
    {
      "cell_type": "markdown",
      "source": [
        "## 5-1 CSV 형식 저장"
      ],
      "metadata": {
        "id": "8DfV0cZLqj_s"
      }
    },
    {
      "cell_type": "code",
      "source": [
        "\n",
        "\n",
        "data = {\n",
        "    'student_id': [101, 102, 103, 104, 105],\n",
        "    'database_score': [85, 76, 92, 63, 88],\n",
        "    'cloudcomputing_score': [78, 82, 95, 70, 84],\n",
        "    'python_score': [92, 78, 85, 75, 91],\n",
        "    'watch_rate': [0.95, 0.87, 0.99, 0.80, 0.93]\n",
        "}\n",
        "## DataFrame 생성\n",
        "\n",
        "## CSV 형식 저장\n"
      ],
      "metadata": {
        "id": "DztLRI9gW2lk"
      },
      "execution_count": null,
      "outputs": []
    },
    {
      "cell_type": "markdown",
      "source": [
        "## 5-2 JSON 형식 저장"
      ],
      "metadata": {
        "id": "CSABzaf3q8XU"
      }
    },
    {
      "cell_type": "code",
      "source": [
        "### 라이브러리 임포트\n",
        "\n",
        "import pandas as pd\n",
        "\n",
        "data = {\n",
        "    \"이름\": \"홍길동\",\n",
        "    \"나이\": 25,\n",
        "    \"거주지\": \"서울\",\n",
        "    \"관심사\": [\"프로그래밍\", \"데이터 분석\", \"여행\"]\n",
        "}\n",
        "\n",
        "## json.dump를 이용한 저장\n",
        "\n",
        "## DataFrame을 이용한 저장\n"
      ],
      "metadata": {
        "id": "7bAgRpizW7Vj"
      },
      "execution_count": null,
      "outputs": []
    },
    {
      "cell_type": "markdown",
      "source": [
        "## 5-3 Pandas Dataframe 데이터 추출"
      ],
      "metadata": {
        "id": "NMlsQDHtrA_x"
      }
    },
    {
      "cell_type": "code",
      "source": [
        "import pandas as pd\n",
        "\n",
        "data = {\n",
        "    \"이름\": [\"김철수\", \"이영희\", \"박민수\", \"최지훈\", \"정소희\"],\n",
        "    \"학년\": [1, 2, 3, 4, 2],\n",
        "    \"학점\": [4.2, 3.8, 4.5, 3.9, 3.5],\n",
        "    \"학과\": [\"컴퓨터학\", \"경영학\", \"농학\", \"교육학\", \"영어영문학\"],\n",
        "    \"동아리\": [\"프로그래밍\", \"독서토론\", \"로봇공학\", \"봉사활동\", \"음악감상\"]\n",
        "}\n",
        "df = pd.DataFrame([data])\n",
        "\n",
        "## DataFrame 인덱스 출력\n",
        "\n",
        "## DataFrame 컬럼 출력\n",
        "\n",
        "## DataFrame 행 출력\n",
        "\n",
        "## DataFrame 값 출력\n"
      ],
      "metadata": {
        "id": "dk3xneVAW9_g"
      },
      "execution_count": null,
      "outputs": []
    },
    {
      "cell_type": "markdown",
      "source": [
        "## 5-4 DataFrame 생성 방법"
      ],
      "metadata": {
        "id": "ILJd1GLoseqm"
      }
    },
    {
      "cell_type": "code",
      "source": [
        "import pandas as pd\n",
        "import json\n",
        "\n",
        "data = {\n",
        "    \"이름\": [\"김철수\", \"이영희\", \"박민수\", \"최지훈\", \"정소희\"],\n",
        "    \"학년\": [1, 2, 3, 4, 2],\n",
        "    \"학점\": [4.2, 3.8, 4.5, 3.9, 3.5],\n",
        "    \"학과\": [\"컴퓨터공학\", \"경영학\", \"전자공학\", \"의학\", \"심리학\"],\n",
        "    \"동아리\": [\"프로그래밍\", \"독서토론\", \"로봇공학\", \"봉사활동\", \"음악감상\"]\n",
        "}\n",
        "\n",
        "## 딕셔너리, csv, json으로 부터 DataFrame 생성\n",
        "\n",
        "\n",
        "## 세가지 방법 결과 비교\n"
      ],
      "metadata": {
        "id": "ISnPLEgNXAmi"
      },
      "execution_count": null,
      "outputs": []
    },
    {
      "cell_type": "markdown",
      "source": [
        "## 5-5 DataFrame 저장 방법"
      ],
      "metadata": {
        "id": "z1N6lAnwsdyU"
      }
    },
    {
      "cell_type": "code",
      "source": [
        "import pandas as pd\n",
        "\n",
        "data = {\n",
        "    \"이름\": [\"김철수\", \"이영희\", \"박민수\", \"최지훈\", \"정소희\"],\n",
        "    \"학년\": [1, 2, 3, 4, 2],\n",
        "    \"학점\": [4.2, 3.8, 4.5, 3.9, 3.5],\n",
        "    \"학과\": [\"컴퓨터공학\", \"경영학\", \"전자공학\", \"의학\", \"심리학\"],\n",
        "    \"동아리\": [\"프로그래밍\", \"독서토론\", \"로봇공학\", \"봉사활동\", \"음악감상\"]\n",
        "}\n",
        "\n",
        "## Dataframe 생성\n",
        "\n",
        "## CSV, JSON 형식으로 저장\n",
        "\n",
        "\n",
        "## HTML 형식으로 저장\n"
      ],
      "metadata": {
        "id": "_dqoWCRoXDrJ"
      },
      "execution_count": null,
      "outputs": []
    },
    {
      "cell_type": "markdown",
      "source": [
        "## 5-6 실습 시나리오"
      ],
      "metadata": {
        "id": "ifBFAyulsdJb"
      }
    },
    {
      "cell_type": "markdown",
      "source": [
        "## 데이터 수집"
      ],
      "metadata": {
        "id": "muFj6okKyXy6"
      }
    },
    {
      "cell_type": "code",
      "source": [
        "import requests\n",
        "\n",
        "## 데이터 수집 url 및 api key 설정\n",
        "url =\"http://openapi.seoul.go.kr:8088/5a62616654616c733832786e52536b/json/energyUseDataSummaryInfo/1/5/2015/01\"\n",
        "api_key= \"5a62616654616c733832786e52536b\"\n",
        "\n",
        "\n",
        "\n",
        "# 2️⃣ API 요청 보내기\n",
        "response = requests.get(url)\n",
        "\n",
        "# 3️⃣ 응답 상태 확인\n",
        "if response.status_code == 200:\n",
        "    print(\"API 호출 성공 ✅\")\n",
        "\n",
        "    # 4️⃣ JSON 데이터 변환\n",
        "    data = response.json()\n",
        "    print(data)  # 구조 확인용 (처음엔 꼭 해보자)\n",
        "\n",
        "    # 5️⃣ 딕셔너리 내부 구조 파악 후 DataFrame으로 변환\n",
        "    try:\n",
        "        items = data['energyUseDataSummaryInfo']['row']\n",
        "        df = pd.DataFrame(items)\n",
        "\n",
        "        # 6️⃣ 데이터프레임 출력\n",
        "        print(df.head())\n",
        "\n",
        "    except KeyError:\n",
        "        print(\"❌ KeyError: JSON 내부 구조가 다릅니다.\")\n",
        "        print(data.keys())\n",
        "else:\n",
        "    print(\"❌ API 호출 실패:\", response.status_code)"
      ],
      "metadata": {
        "id": "7yCozmQeXJcO",
        "colab": {
          "base_uri": "https://localhost:8080/"
        },
        "outputId": "a715ddf5-a16b-478f-e234-d6e775125252"
      },
      "execution_count": 8,
      "outputs": [
        {
          "output_type": "stream",
          "name": "stdout",
          "text": [
            "API 호출 성공 ✅\n",
            "{'energyUseDataSummaryInfo': {'list_total_count': 7, 'RESULT': {'CODE': 'INFO-000', 'MESSAGE': '정상 처리되었습니다'}, 'row': [{'YEAR': '2015', 'MON': '01', 'MM_TYPE': '개인', 'CNT': '767791', 'EUS': '193784708', 'EUS1': '194781915', 'EUS2': '204969429', 'ECO2_1': '-6090964', 'ECO2_2': '-2582568.736', 'GUS': '59133720', 'GUS1': '57163993', 'GUS2': '68297619', 'GCO2_1': '-3597086', 'GCO2_2': '-8057472.64', 'WUS': '12819757.886', 'WUS1': '12723680.426', 'WUS2': '12899476.73', 'WCO2_1': '8179.308', 'WCO2_2': '2715.530256', 'HUS': '22740838.937', 'HUS1': '23400055.303', 'HUS2': '27090493.875', 'HCO2_1': '-2504435.652', 'HCO2_2': '-33660084.213069', 'REG_DATE': '2015-06-04 17:03:55.0'}, {'YEAR': '2015', 'MON': '01', 'MM_TYPE': '학교', 'CNT': '1382', 'EUS': '134955565', 'EUS1': '128707423', 'EUS2': '145561511', 'ECO2_1': '-2178902', 'ECO2_2': '-923854.448', 'GUS': '9107197', 'GUS1': '8410968', 'GUS2': '10745416', 'GCO2_1': '-470995', 'GCO2_2': '-1055028.8', 'WUS': '2075819.2', 'WUS1': '2097433.8', 'WUS2': '2133200.8', 'WCO2_1': '-39498.1', 'WCO2_2': '-13113.3692', 'HUS': '0', 'HUS1': '0', 'HUS2': '0', 'HCO2_1': '0', 'HCO2_2': '0', 'REG_DATE': '2015-06-04 17:03:55.0'}, {'YEAR': '2015', 'MON': '01', 'MM_TYPE': '종교단체', 'CNT': '32', 'EUS': '372270', 'EUS1': '363376', 'EUS2': '411363', 'ECO2_1': '-15099.5', 'ECO2_2': '-6402.188', 'GUS': '53331', 'GUS1': '45727', 'GUS2': '63312', 'GCO2_1': '-1188.5', 'GCO2_2': '-2662.24', 'WUS': '5945', 'WUS1': '4548', 'WUS2': '4519', 'WCO2_1': '1411.5', 'WCO2_2': '468.618', 'HUS': '0', 'HUS1': '0', 'HUS2': '0', 'HCO2_1': '0', 'HCO2_2': '0', 'REG_DATE': '2015-06-04 17:03:55.0'}, {'YEAR': '2015', 'MON': '01', 'MM_TYPE': '소상공인', 'CNT': '2058', 'EUS': '10249618', 'EUS1': '9927610', 'EUS2': '11039593', 'ECO2_1': '-233983.5', 'ECO2_2': '-99209.004', 'GUS': '536119', 'GUS1': '523810', 'GUS2': '642921', 'GCO2_1': '-47246.5', 'GCO2_2': '-105832.16', 'WUS': '147273', 'WUS1': '146480.6', 'WUS2': '147325.6', 'WCO2_1': '369.9', 'WCO2_2': '122.8068', 'HUS': '0', 'HUS1': '0', 'HUS2': '0', 'HCO2_1': '0', 'HCO2_2': '0', 'REG_DATE': '2015-06-04 17:03:55.0'}, {'YEAR': '2015', 'MON': '01', 'MM_TYPE': '공동주택관리소', 'CNT': '1747', 'EUS': '327102096', 'EUS1': '329852334', 'EUS2': '351694752', 'ECO2_1': '-13671447', 'ECO2_2': '-5796693.528', 'GUS': '22834274', 'GUS1': '21141017', 'GUS2': '25338506', 'GCO2_1': '-405487.5', 'GCO2_2': '-908292', 'WUS': '12844807.5', 'WUS1': '12763070', 'WUS2': '12979835.8', 'WCO2_1': '-26645.4', 'WCO2_2': '-8846.2728', 'HUS': '0', 'HUS1': '0', 'HUS2': '0', 'HCO2_1': '0', 'HCO2_2': '0', 'REG_DATE': '2015-06-04 17:03:55.0'}]}}\n",
            "   YEAR MON  MM_TYPE     CNT        EUS       EUS1       EUS2     ECO2_1  \\\n",
            "0  2015  01       개인  767791  193784708  194781915  204969429   -6090964   \n",
            "1  2015  01       학교    1382  134955565  128707423  145561511   -2178902   \n",
            "2  2015  01     종교단체      32     372270     363376     411363   -15099.5   \n",
            "3  2015  01     소상공인    2058   10249618    9927610   11039593  -233983.5   \n",
            "4  2015  01  공동주택관리소    1747  327102096  329852334  351694752  -13671447   \n",
            "\n",
            "         ECO2_2       GUS  ...          WUS1         WUS2    WCO2_1  \\\n",
            "0  -2582568.736  59133720  ...  12723680.426  12899476.73  8179.308   \n",
            "1   -923854.448   9107197  ...     2097433.8    2133200.8  -39498.1   \n",
            "2     -6402.188     53331  ...          4548         4519    1411.5   \n",
            "3    -99209.004    536119  ...      146480.6     147325.6     369.9   \n",
            "4  -5796693.528  22834274  ...      12763070   12979835.8  -26645.4   \n",
            "\n",
            "        WCO2_2           HUS          HUS1          HUS2        HCO2_1  \\\n",
            "0  2715.530256  22740838.937  23400055.303  27090493.875  -2504435.652   \n",
            "1  -13113.3692             0             0             0             0   \n",
            "2      468.618             0             0             0             0   \n",
            "3     122.8068             0             0             0             0   \n",
            "4   -8846.2728             0             0             0             0   \n",
            "\n",
            "             HCO2_2               REG_DATE  \n",
            "0  -33660084.213069  2015-06-04 17:03:55.0  \n",
            "1                 0  2015-06-04 17:03:55.0  \n",
            "2                 0  2015-06-04 17:03:55.0  \n",
            "3                 0  2015-06-04 17:03:55.0  \n",
            "4                 0  2015-06-04 17:03:55.0  \n",
            "\n",
            "[5 rows x 25 columns]\n"
          ]
        }
      ]
    },
    {
      "cell_type": "code",
      "source": [
        "print(response.json())"
      ],
      "metadata": {
        "id": "mXqaKbvguOSu",
        "outputId": "04eb5ef2-2d7c-4b73-f10f-f8d979288463",
        "colab": {
          "base_uri": "https://localhost:8080/"
        }
      },
      "execution_count": 6,
      "outputs": [
        {
          "output_type": "stream",
          "name": "stdout",
          "text": [
            "{'energyUseDataSummaryInfo': {'list_total_count': 7, 'RESULT': {'CODE': 'INFO-000', 'MESSAGE': '정상 처리되었습니다'}, 'row': [{'YEAR': '2015', 'MON': '01', 'MM_TYPE': '개인', 'CNT': '767791', 'EUS': '193784708', 'EUS1': '194781915', 'EUS2': '204969429', 'ECO2_1': '-6090964', 'ECO2_2': '-2582568.736', 'GUS': '59133720', 'GUS1': '57163993', 'GUS2': '68297619', 'GCO2_1': '-3597086', 'GCO2_2': '-8057472.64', 'WUS': '12819757.886', 'WUS1': '12723680.426', 'WUS2': '12899476.73', 'WCO2_1': '8179.308', 'WCO2_2': '2715.530256', 'HUS': '22740838.937', 'HUS1': '23400055.303', 'HUS2': '27090493.875', 'HCO2_1': '-2504435.652', 'HCO2_2': '-33660084.213069', 'REG_DATE': '2015-06-04 17:03:55.0'}, {'YEAR': '2015', 'MON': '01', 'MM_TYPE': '학교', 'CNT': '1382', 'EUS': '134955565', 'EUS1': '128707423', 'EUS2': '145561511', 'ECO2_1': '-2178902', 'ECO2_2': '-923854.448', 'GUS': '9107197', 'GUS1': '8410968', 'GUS2': '10745416', 'GCO2_1': '-470995', 'GCO2_2': '-1055028.8', 'WUS': '2075819.2', 'WUS1': '2097433.8', 'WUS2': '2133200.8', 'WCO2_1': '-39498.1', 'WCO2_2': '-13113.3692', 'HUS': '0', 'HUS1': '0', 'HUS2': '0', 'HCO2_1': '0', 'HCO2_2': '0', 'REG_DATE': '2015-06-04 17:03:55.0'}, {'YEAR': '2015', 'MON': '01', 'MM_TYPE': '종교단체', 'CNT': '32', 'EUS': '372270', 'EUS1': '363376', 'EUS2': '411363', 'ECO2_1': '-15099.5', 'ECO2_2': '-6402.188', 'GUS': '53331', 'GUS1': '45727', 'GUS2': '63312', 'GCO2_1': '-1188.5', 'GCO2_2': '-2662.24', 'WUS': '5945', 'WUS1': '4548', 'WUS2': '4519', 'WCO2_1': '1411.5', 'WCO2_2': '468.618', 'HUS': '0', 'HUS1': '0', 'HUS2': '0', 'HCO2_1': '0', 'HCO2_2': '0', 'REG_DATE': '2015-06-04 17:03:55.0'}, {'YEAR': '2015', 'MON': '01', 'MM_TYPE': '소상공인', 'CNT': '2058', 'EUS': '10249618', 'EUS1': '9927610', 'EUS2': '11039593', 'ECO2_1': '-233983.5', 'ECO2_2': '-99209.004', 'GUS': '536119', 'GUS1': '523810', 'GUS2': '642921', 'GCO2_1': '-47246.5', 'GCO2_2': '-105832.16', 'WUS': '147273', 'WUS1': '146480.6', 'WUS2': '147325.6', 'WCO2_1': '369.9', 'WCO2_2': '122.8068', 'HUS': '0', 'HUS1': '0', 'HUS2': '0', 'HCO2_1': '0', 'HCO2_2': '0', 'REG_DATE': '2015-06-04 17:03:55.0'}, {'YEAR': '2015', 'MON': '01', 'MM_TYPE': '공동주택관리소', 'CNT': '1747', 'EUS': '327102096', 'EUS1': '329852334', 'EUS2': '351694752', 'ECO2_1': '-13671447', 'ECO2_2': '-5796693.528', 'GUS': '22834274', 'GUS1': '21141017', 'GUS2': '25338506', 'GCO2_1': '-405487.5', 'GCO2_2': '-908292', 'WUS': '12844807.5', 'WUS1': '12763070', 'WUS2': '12979835.8', 'WCO2_1': '-26645.4', 'WCO2_2': '-8846.2728', 'HUS': '0', 'HUS1': '0', 'HUS2': '0', 'HCO2_1': '0', 'HCO2_2': '0', 'REG_DATE': '2015-06-04 17:03:55.0'}]}}\n"
          ]
        }
      ]
    },
    {
      "cell_type": "markdown",
      "source": [
        "## 데이터 프레임 생성"
      ],
      "metadata": {
        "id": "d6mT4IxkySzI"
      }
    },
    {
      "cell_type": "code",
      "source": [
        "import requests\n",
        "import pandas as pd\n",
        "\n",
        "# 예: API 호출 결과가 이미 data 변수에 저장되어 있다고 가정\n",
        "items = data['energyUseDataSummaryInfo']['row']  # ✅ 소문자\n",
        "df = pd.DataFrame(items)  # ✅ 소문자\n",
        "\n",
        "# 기본 정보 출력\n",
        "df.info()\n",
        "\n",
        "# 요약 통계 출력\n",
        "print(df.describe())"
      ],
      "metadata": {
        "id": "HOOo9qTsXLkB",
        "colab": {
          "base_uri": "https://localhost:8080/"
        },
        "outputId": "75f285de-6468-4abc-cc06-c50f6b825edb"
      },
      "execution_count": 21,
      "outputs": [
        {
          "output_type": "stream",
          "name": "stdout",
          "text": [
            "<class 'pandas.core.frame.DataFrame'>\n",
            "RangeIndex: 5 entries, 0 to 4\n",
            "Data columns (total 25 columns):\n",
            " #   Column    Non-Null Count  Dtype \n",
            "---  ------    --------------  ----- \n",
            " 0   YEAR      5 non-null      object\n",
            " 1   MON       5 non-null      object\n",
            " 2   MM_TYPE   5 non-null      object\n",
            " 3   CNT       5 non-null      object\n",
            " 4   EUS       5 non-null      object\n",
            " 5   EUS1      5 non-null      object\n",
            " 6   EUS2      5 non-null      object\n",
            " 7   ECO2_1    5 non-null      object\n",
            " 8   ECO2_2    5 non-null      object\n",
            " 9   GUS       5 non-null      object\n",
            " 10  GUS1      5 non-null      object\n",
            " 11  GUS2      5 non-null      object\n",
            " 12  GCO2_1    5 non-null      object\n",
            " 13  GCO2_2    5 non-null      object\n",
            " 14  WUS       5 non-null      object\n",
            " 15  WUS1      5 non-null      object\n",
            " 16  WUS2      5 non-null      object\n",
            " 17  WCO2_1    5 non-null      object\n",
            " 18  WCO2_2    5 non-null      object\n",
            " 19  HUS       5 non-null      object\n",
            " 20  HUS1      5 non-null      object\n",
            " 21  HUS2      5 non-null      object\n",
            " 22  HCO2_1    5 non-null      object\n",
            " 23  HCO2_2    5 non-null      object\n",
            " 24  REG_DATE  5 non-null      object\n",
            "dtypes: object(25)\n",
            "memory usage: 1.1+ KB\n",
            "        YEAR MON MM_TYPE     CNT        EUS       EUS1       EUS2    ECO2_1  \\\n",
            "count      5   5       5       5          5          5          5         5   \n",
            "unique     1   1       5       5          5          5          5         5   \n",
            "top     2015  01      개인  767791  193784708  194781915  204969429  -6090964   \n",
            "freq       5   5       1       1          1          1          1         1   \n",
            "\n",
            "              ECO2_2       GUS  ...          WUS1         WUS2    WCO2_1  \\\n",
            "count              5         5  ...             5            5         5   \n",
            "unique             5         5  ...             5            5         5   \n",
            "top     -2582568.736  59133720  ...  12723680.426  12899476.73  8179.308   \n",
            "freq               1         1  ...             1            1         1   \n",
            "\n",
            "             WCO2_2 HUS HUS1 HUS2 HCO2_1 HCO2_2               REG_DATE  \n",
            "count             5   5    5    5      5      5                      5  \n",
            "unique            5   2    2    2      2      2                      1  \n",
            "top     2715.530256   0    0    0      0      0  2015-06-04 17:03:55.0  \n",
            "freq              1   4    4    4      4      4                      5  \n",
            "\n",
            "[4 rows x 25 columns]\n"
          ]
        }
      ]
    },
    {
      "cell_type": "markdown",
      "source": [
        "## 다양항 형식으로 데이터 저장\n"
      ],
      "metadata": {
        "id": "vVG0HYb0ymeM"
      }
    },
    {
      "cell_type": "code",
      "source": [
        "df.to_csv('air_pollution.csv', index=False, encoding='utf-8')\n",
        "\n",
        "## JSON 형식 데이터 저장\n",
        "\n",
        "## EXCEL 형식 데이터 저장\n",
        "\n",
        "## HTML 형식 데이터 저장\n"
      ],
      "metadata": {
        "id": "HW1ZodpgXNhG"
      },
      "execution_count": null,
      "outputs": []
    }
  ]
}