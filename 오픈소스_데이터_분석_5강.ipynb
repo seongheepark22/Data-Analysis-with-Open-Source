{
  "nbformat": 4,
  "nbformat_minor": 0,
  "metadata": {
    "colab": {
      "provenance": [],
      "include_colab_link": true
    },
    "kernelspec": {
      "name": "python3",
      "display_name": "Python 3"
    },
    "language_info": {
      "name": "python"
    }
  },
  "cells": [
    {
      "cell_type": "markdown",
      "metadata": {
        "id": "view-in-github",
        "colab_type": "text"
      },
      "source": [
        "<a href=\"https://colab.research.google.com/github/seongheepark22/Data-Analysis-with-Open-Source/blob/main/%EC%98%A4%ED%94%88%EC%86%8C%EC%8A%A4_%EB%8D%B0%EC%9D%B4%ED%84%B0_%EB%B6%84%EC%84%9D_5%EA%B0%95.ipynb\" target=\"_parent\"><img src=\"https://colab.research.google.com/assets/colab-badge.svg\" alt=\"Open In Colab\"/></a>"
      ]
    },
    {
      "cell_type": "markdown",
      "source": [
        "# 오픈소스 기반 데이터 분석 5강 - 데이터 저장"
      ],
      "metadata": {
        "id": "O4kC4JMknVnK"
      }
    },
    {
      "cell_type": "markdown",
      "source": [
        "## 5-1 CSV 형식 저장"
      ],
      "metadata": {
        "id": "8DfV0cZLqj_s"
      }
    },
    {
      "cell_type": "code",
      "source": [
        "\n",
        "\n",
        "data = {\n",
        "    'student_id': [101, 102, 103, 104, 105],\n",
        "    'database_score': [85, 76, 92, 63, 88],\n",
        "    'cloudcomputing_score': [78, 82, 95, 70, 84],\n",
        "    'python_score': [92, 78, 85, 75, 91],\n",
        "    'watch_rate': [0.95, 0.87, 0.99, 0.80, 0.93]\n",
        "}\n",
        "## DataFrame 생성\n",
        "\n",
        "## CSV 형식 저장\n"
      ],
      "metadata": {
        "id": "DztLRI9gW2lk"
      },
      "execution_count": null,
      "outputs": []
    },
    {
      "cell_type": "markdown",
      "source": [
        "## 5-2 JSON 형식 저장"
      ],
      "metadata": {
        "id": "CSABzaf3q8XU"
      }
    },
    {
      "cell_type": "code",
      "source": [
        "### 라이브러리 임포트\n",
        "\n",
        "import pandas as pd\n",
        "\n",
        "data = {\n",
        "    \"이름\": \"홍길동\",\n",
        "    \"나이\": 25,\n",
        "    \"거주지\": \"서울\",\n",
        "    \"관심사\": [\"프로그래밍\", \"데이터 분석\", \"여행\"]\n",
        "}\n",
        "\n",
        "## json.dump를 이용한 저장\n",
        "\n",
        "## DataFrame을 이용한 저장\n"
      ],
      "metadata": {
        "id": "7bAgRpizW7Vj"
      },
      "execution_count": null,
      "outputs": []
    },
    {
      "cell_type": "markdown",
      "source": [
        "## 5-3 Pandas Dataframe 데이터 추출"
      ],
      "metadata": {
        "id": "NMlsQDHtrA_x"
      }
    },
    {
      "cell_type": "code",
      "source": [
        "import pandas as pd\n",
        "\n",
        "data = {\n",
        "    \"이름\": [\"김철수\", \"이영희\", \"박민수\", \"최지훈\", \"정소희\"],\n",
        "    \"학년\": [1, 2, 3, 4, 2],\n",
        "    \"학점\": [4.2, 3.8, 4.5, 3.9, 3.5],\n",
        "    \"학과\": [\"컴퓨터학\", \"경영학\", \"농학\", \"교육학\", \"영어영문학\"],\n",
        "    \"동아리\": [\"프로그래밍\", \"독서토론\", \"로봇공학\", \"봉사활동\", \"음악감상\"]\n",
        "}\n",
        "df = pd.DataFrame([data])\n",
        "\n",
        "## DataFrame 인덱스 출력\n",
        "\n",
        "## DataFrame 컬럼 출력\n",
        "\n",
        "## DataFrame 행 출력\n",
        "\n",
        "## DataFrame 값 출력\n"
      ],
      "metadata": {
        "id": "dk3xneVAW9_g"
      },
      "execution_count": null,
      "outputs": []
    },
    {
      "cell_type": "markdown",
      "source": [
        "## 5-4 DataFrame 생성 방법"
      ],
      "metadata": {
        "id": "ILJd1GLoseqm"
      }
    },
    {
      "cell_type": "code",
      "source": [
        "import pandas as pd\n",
        "import json\n",
        "\n",
        "data = {\n",
        "    \"이름\": [\"김철수\", \"이영희\", \"박민수\", \"최지훈\", \"정소희\"],\n",
        "    \"학년\": [1, 2, 3, 4, 2],\n",
        "    \"학점\": [4.2, 3.8, 4.5, 3.9, 3.5],\n",
        "    \"학과\": [\"컴퓨터공학\", \"경영학\", \"전자공학\", \"의학\", \"심리학\"],\n",
        "    \"동아리\": [\"프로그래밍\", \"독서토론\", \"로봇공학\", \"봉사활동\", \"음악감상\"]\n",
        "}\n",
        "\n",
        "## 딕셔너리, csv, json으로 부터 DataFrame 생성\n",
        "\n",
        "\n",
        "## 세가지 방법 결과 비교\n"
      ],
      "metadata": {
        "id": "ISnPLEgNXAmi"
      },
      "execution_count": null,
      "outputs": []
    },
    {
      "cell_type": "markdown",
      "source": [
        "## 5-5 DataFrame 저장 방법"
      ],
      "metadata": {
        "id": "z1N6lAnwsdyU"
      }
    },
    {
      "cell_type": "code",
      "source": [
        "import pandas as pd\n",
        "\n",
        "data = {\n",
        "    \"이름\": [\"김철수\", \"이영희\", \"박민수\", \"최지훈\", \"정소희\"],\n",
        "    \"학년\": [1, 2, 3, 4, 2],\n",
        "    \"학점\": [4.2, 3.8, 4.5, 3.9, 3.5],\n",
        "    \"학과\": [\"컴퓨터공학\", \"경영학\", \"전자공학\", \"의학\", \"심리학\"],\n",
        "    \"동아리\": [\"프로그래밍\", \"독서토론\", \"로봇공학\", \"봉사활동\", \"음악감상\"]\n",
        "}\n",
        "\n",
        "## Dataframe 생성\n",
        "\n",
        "## CSV, JSON 형식으로 저장\n",
        "\n",
        "\n",
        "## HTML 형식으로 저장\n"
      ],
      "metadata": {
        "id": "_dqoWCRoXDrJ"
      },
      "execution_count": null,
      "outputs": []
    },
    {
      "cell_type": "markdown",
      "source": [
        "## 5-6 실습 시나리오"
      ],
      "metadata": {
        "id": "ifBFAyulsdJb"
      }
    },
    {
      "cell_type": "markdown",
      "source": [
        "## 데이터 수집"
      ],
      "metadata": {
        "id": "muFj6okKyXy6"
      }
    },
    {
      "cell_type": "code",
      "source": [
        "import requests\n",
        "\n",
        "## 데이터 수집 url 및 api key 설정\n",
        "API_KEY = \"http://openapi.seoul.go.kr:8088/744c616456616c7339396e58517964/json/energyUseDataSummaryInfo/1/5/%20/%20/\"\n",
        "api_key= \"744c616456616c7339396e58517964\"\n",
        "\n",
        "\n",
        "\n",
        "\n",
        "# 2️⃣ API 요청 보내기\n",
        "response = requests.get(url)\n",
        "\n",
        "# 3️⃣ 응답 상태 확인\n",
        "if response.status_code == 200:\n",
        "    print(\"API 호출 성공 ✅\")\n",
        "\n",
        "    # 4️⃣ JSON 데이터 변환\n",
        "    data = response.json()\n",
        "    print(data)  # 구조 확인용 (처음엔 꼭 해보자)\n",
        "\n",
        "    # 5️⃣ 딕셔너리 내부 구조 파악 후 DataFrame으로 변환\n",
        "    try:\n",
        "        items = data['energyUseDataSummaryInfo']['row']\n",
        "        df = pd.DataFrame(items)\n",
        "\n",
        "        # 6️⃣ 데이터프레임 출력\n",
        "        print(df.head())\n",
        "\n",
        "    except KeyError:\n",
        "        print(\"❌ KeyError: JSON 내부 구조가 다릅니다.\")\n",
        "        print(data.keys())\n",
        "else:\n",
        "    print(\"❌ API 호출 실패:\", response.status_code)"
      ],
      "metadata": {
        "id": "7yCozmQeXJcO",
        "colab": {
          "base_uri": "https://localhost:8080/"
        },
        "outputId": "71c61de6-0673-4b7b-9886-46ddefbff4c9"
      },
      "execution_count": 57,
      "outputs": [
        {
          "output_type": "stream",
          "name": "stdout",
          "text": [
            "API 호출 성공 ✅\n",
            "{'energyUseDataSummaryInfo': {'list_total_count': 1241, 'RESULT': {'CODE': 'INFO-000', 'MESSAGE': '정상 처리되었습니다'}, 'row': [{'YEAR': '2025', 'MON': '06', 'MM_TYPE': '개인', 'CNT': '1269454', 'EUS': '278745288', 'EUS1': '275851011', 'EUS2': '273151435', 'ECO2_1': '4244065', 'ECO2_2': '2076623.656', 'GUS': '13084768', 'GUS1': '11889039', 'GUS2': '12094650', 'GCO2_1': '1091102', 'GCO2_2': '2182204', 'WUS': '14927683.6', 'WUS1': '15166284.8', 'WUS2': '15371662.2', 'WCO2_1': '-341289.9', 'WCO2_2': '-611822.446', 'HUS': '379182.22', 'HUS1': '368839.049', 'HUS2': '389847.167', 'HCO2_1': '-160.888', 'HCO2_2': '-22448.67848156', 'REG_DATE': '2025-09-01 04:02:15.0'}, {'YEAR': '2025', 'MON': '06', 'MM_TYPE': '학교', 'CNT': '6745', 'EUS': '117808793', 'EUS1': '114793127', 'EUS2': '114623246', 'ECO2_1': '3100606.5', 'ECO2_2': '3096973.668', 'GUS': '2093441', 'GUS1': '2046804', 'GUS2': '2061648', 'GCO2_1': '39207', 'GCO2_2': '78414', 'WUS': '1824338.2', 'WUS1': '1914804.2', 'WUS2': '1956560.2', 'WCO2_1': '-111344', 'WCO2_2': '-333633.134', 'HUS': '8.03', 'HUS1': '8.03', 'HUS2': '8.03', 'HCO2_1': '0', 'HCO2_2': '0', 'REG_DATE': '2025-09-01 04:02:15.0'}, {'YEAR': '2025', 'MON': '06', 'MM_TYPE': '공동주택관리소', 'CNT': '3729', 'EUS': '498863841', 'EUS1': '496003195', 'EUS2': '488758810', 'ECO2_1': '6482838.5', 'ECO2_2': '6482838.5', 'GUS': '2853437', 'GUS1': '2552964', 'GUS2': '2586972', 'GCO2_1': '283460.5', 'GCO2_2': '566921', 'WUS': '20407812.7', 'WUS1': '20616193.4', 'WUS2': '20794568.4', 'WCO2_1': '-297568.2', 'WCO2_2': '-892704.6', 'HUS': '0', 'HUS1': '0', 'HUS2': '0', 'HCO2_1': '0', 'HCO2_2': '0', 'REG_DATE': '2025-09-01 04:02:15.0'}, {'YEAR': '2025', 'MON': '06', 'MM_TYPE': '종교단체', 'CNT': '849', 'EUS': '6205342', 'EUS1': '6171454', 'EUS2': '6094109', 'ECO2_1': '72560.5', 'ECO2_2': '72560.5', 'GUS': '139336', 'GUS1': '152116', 'GUS2': '141705', 'GCO2_1': '-7575', 'GCO2_2': '-15150', 'WUS': '52228', 'WUS1': '51779', 'WUS2': '49094', 'WCO2_1': '1791.5', 'WCO2_2': '5374.5', 'HUS': '0', 'HUS1': '0', 'HUS2': '0', 'HCO2_1': '0', 'HCO2_2': '0', 'REG_DATE': '2025-09-01 04:02:15.0'}, {'YEAR': '2025', 'MON': '06', 'MM_TYPE': '소상공인', 'CNT': '53274', 'EUS': '96254029', 'EUS1': '98122772', 'EUS2': '98464917', 'ECO2_1': '-2039815.5', 'ECO2_2': '-2043866.22', 'GUS': '1638563', 'GUS1': '1647690', 'GUS2': '1687480', 'GCO2_1': '-27668', 'GCO2_2': '-55336', 'WUS': '1526737.8', 'WUS1': '1541313.8', 'WUS2': '1576869.2', 'WCO2_1': '-32353.7', 'WCO2_2': '-97437.288', 'HUS': '2', 'HUS1': '2', 'HUS2': '2', 'HCO2_1': '0', 'HCO2_2': '0', 'REG_DATE': '2025-09-01 04:02:15.0'}]}}\n",
            "   YEAR MON  MM_TYPE      CNT        EUS       EUS1       EUS2      ECO2_1  \\\n",
            "0  2025  06       개인  1269454  278745288  275851011  273151435     4244065   \n",
            "1  2025  06       학교     6745  117808793  114793127  114623246   3100606.5   \n",
            "2  2025  06  공동주택관리소     3729  498863841  496003195  488758810   6482838.5   \n",
            "3  2025  06     종교단체      849    6205342    6171454    6094109     72560.5   \n",
            "4  2025  06     소상공인    53274   96254029   98122772   98464917  -2039815.5   \n",
            "\n",
            "        ECO2_2       GUS  ...        WUS1        WUS2     WCO2_1       WCO2_2  \\\n",
            "0  2076623.656  13084768  ...  15166284.8  15371662.2  -341289.9  -611822.446   \n",
            "1  3096973.668   2093441  ...   1914804.2   1956560.2    -111344  -333633.134   \n",
            "2    6482838.5   2853437  ...  20616193.4  20794568.4  -297568.2    -892704.6   \n",
            "3      72560.5    139336  ...       51779       49094     1791.5       5374.5   \n",
            "4  -2043866.22   1638563  ...   1541313.8   1576869.2   -32353.7   -97437.288   \n",
            "\n",
            "         HUS        HUS1        HUS2    HCO2_1           HCO2_2  \\\n",
            "0  379182.22  368839.049  389847.167  -160.888  -22448.67848156   \n",
            "1       8.03        8.03        8.03         0                0   \n",
            "2          0           0           0         0                0   \n",
            "3          0           0           0         0                0   \n",
            "4          2           2           2         0                0   \n",
            "\n",
            "                REG_DATE  \n",
            "0  2025-09-01 04:02:15.0  \n",
            "1  2025-09-01 04:02:15.0  \n",
            "2  2025-09-01 04:02:15.0  \n",
            "3  2025-09-01 04:02:15.0  \n",
            "4  2025-09-01 04:02:15.0  \n",
            "\n",
            "[5 rows x 25 columns]\n"
          ]
        }
      ]
    },
    {
      "cell_type": "code",
      "source": [
        "import requests\n",
        "import pandas as pd\n",
        "from datetime import datetime\n",
        "\n",
        "# 1️⃣ 인증키 입력 (본인 인증키로 교체)\n",
        "API_KEY = \"http://openapi.seoul.go.kr:8088/744c616456616c7339396e58517964/json/energyUseDataSummaryInfo/1/5/%20/%20/\"\n",
        "api_key= \"744c616456616c7339396e58517964\"\n",
        "\n",
        "# 2️⃣ 데이터 저장용 리스트 생성\n",
        "data_list = []\n",
        "\n",
        "# 3️⃣ 2015년 1월부터 2024년 12월까지 반복\n",
        "for year in range(2015, 2025):\n",
        "    for month in range(1, 13):\n",
        "        url = f\"http://openapi.seoul.go.kr:8088/744c616456616c7339396e58517964/json/energyUseDataSummaryInfo/1/5/%20/%20/\"\n",
        "        response = requests.get(url)\n",
        "\n",
        "        if response.status_code == 200:\n",
        "            data = response.json()\n",
        "            if \"energyUseDataSummaryInfo\" in data:\n",
        "                rows = data[\"energyUseDataSummaryInfo\"][\"row\"]\n",
        "                data_list.extend(rows)\n",
        "        else:\n",
        "            print(f\"❌ {year}-{month:02d} 요청 실패\")\n",
        "\n",
        "# 4️⃣ pandas DataFrame으로 변환\n",
        "df = pd.DataFrame(data_list)\n",
        "\n",
        "# 5️⃣ 데이터 확인\n",
        "print(df.head())\n",
        "print(f\"\\n총 {len(df)}개의 데이터 수집 완료!\")\n"
      ],
      "metadata": {
        "id": "mXqaKbvguOSu",
        "outputId": "dbdc8be1-6338-40db-953a-8adccb892fe4",
        "colab": {
          "base_uri": "https://localhost:8080/"
        }
      },
      "execution_count": 58,
      "outputs": [
        {
          "output_type": "stream",
          "name": "stdout",
          "text": [
            "   YEAR MON  MM_TYPE      CNT        EUS       EUS1       EUS2      ECO2_1  \\\n",
            "0  2025  06       개인  1269454  278745288  275851011  273151435     4244065   \n",
            "1  2025  06       학교     6745  117808793  114793127  114623246   3100606.5   \n",
            "2  2025  06  공동주택관리소     3729  498863841  496003195  488758810   6482838.5   \n",
            "3  2025  06     종교단체      849    6205342    6171454    6094109     72560.5   \n",
            "4  2025  06     소상공인    53274   96254029   98122772   98464917  -2039815.5   \n",
            "\n",
            "        ECO2_2       GUS  ...        WUS1        WUS2     WCO2_1       WCO2_2  \\\n",
            "0  2076623.656  13084768  ...  15166284.8  15371662.2  -341289.9  -611822.446   \n",
            "1  3096973.668   2093441  ...   1914804.2   1956560.2    -111344  -333633.134   \n",
            "2    6482838.5   2853437  ...  20616193.4  20794568.4  -297568.2    -892704.6   \n",
            "3      72560.5    139336  ...       51779       49094     1791.5       5374.5   \n",
            "4  -2043866.22   1638563  ...   1541313.8   1576869.2   -32353.7   -97437.288   \n",
            "\n",
            "         HUS        HUS1        HUS2    HCO2_1           HCO2_2  \\\n",
            "0  379182.22  368839.049  389847.167  -160.888  -22448.67848156   \n",
            "1       8.03        8.03        8.03         0                0   \n",
            "2          0           0           0         0                0   \n",
            "3          0           0           0         0                0   \n",
            "4          2           2           2         0                0   \n",
            "\n",
            "                REG_DATE  \n",
            "0  2025-09-01 04:02:15.0  \n",
            "1  2025-09-01 04:02:15.0  \n",
            "2  2025-09-01 04:02:15.0  \n",
            "3  2025-09-01 04:02:15.0  \n",
            "4  2025-09-01 04:02:15.0  \n",
            "\n",
            "[5 rows x 25 columns]\n",
            "\n",
            "총 600개의 데이터 수집 완료!\n"
          ]
        }
      ]
    },
    {
      "cell_type": "markdown",
      "source": [
        "## 데이터 프레임 생성"
      ],
      "metadata": {
        "id": "d6mT4IxkySzI"
      }
    },
    {
      "cell_type": "code",
      "source": [
        "import pandas as pd\n",
        "\n",
        "\n",
        "items = data['energyUseDataSummaryInfo']['row']\n",
        "df = pd.DataFrame(items)\n",
        "\n",
        "\n",
        "print(df.head())"
      ],
      "metadata": {
        "id": "HOOo9qTsXLkB",
        "colab": {
          "base_uri": "https://localhost:8080/"
        },
        "outputId": "31da3cb9-1aa6-46eb-bc4c-b5fcc7dcea60"
      },
      "execution_count": null,
      "outputs": [
        {
          "output_type": "stream",
          "name": "stdout",
          "text": [
            "   YEAR MON  MM_TYPE     CNT        EUS       EUS1       EUS2     ECO2_1  \\\n",
            "0  2015  01       개인  767791  193784708  194781915  204969429   -6090964   \n",
            "1  2015  01       학교    1382  134955565  128707423  145561511   -2178902   \n",
            "2  2015  01     종교단체      32     372270     363376     411363   -15099.5   \n",
            "3  2015  01     소상공인    2058   10249618    9927610   11039593  -233983.5   \n",
            "4  2015  01  공동주택관리소    1747  327102096  329852334  351694752  -13671447   \n",
            "\n",
            "         ECO2_2       GUS  ...          WUS1         WUS2    WCO2_1  \\\n",
            "0  -2582568.736  59133720  ...  12723680.426  12899476.73  8179.308   \n",
            "1   -923854.448   9107197  ...     2097433.8    2133200.8  -39498.1   \n",
            "2     -6402.188     53331  ...          4548         4519    1411.5   \n",
            "3    -99209.004    536119  ...      146480.6     147325.6     369.9   \n",
            "4  -5796693.528  22834274  ...      12763070   12979835.8  -26645.4   \n",
            "\n",
            "        WCO2_2           HUS          HUS1          HUS2        HCO2_1  \\\n",
            "0  2715.530256  22740838.937  23400055.303  27090493.875  -2504435.652   \n",
            "1  -13113.3692             0             0             0             0   \n",
            "2      468.618             0             0             0             0   \n",
            "3     122.8068             0             0             0             0   \n",
            "4   -8846.2728             0             0             0             0   \n",
            "\n",
            "             HCO2_2               REG_DATE  \n",
            "0  -33660084.213069  2015-06-04 17:03:55.0  \n",
            "1                 0  2015-06-04 17:03:55.0  \n",
            "2                 0  2015-06-04 17:03:55.0  \n",
            "3                 0  2015-06-04 17:03:55.0  \n",
            "4                 0  2015-06-04 17:03:55.0  \n",
            "\n",
            "[5 rows x 25 columns]\n"
          ]
        }
      ]
    },
    {
      "cell_type": "code",
      "source": [
        "import pandas as pd\n",
        "import requests\n",
        "\n",
        "# 1️⃣ API 키 및 URL 설정\n",
        "# 1️⃣ 인증키 입력 (본인 인증키로 교체)\n",
        "API_KEY = \"http://openapi.seoul.go.kr:8088/744c616456616c7339396e58517964/json/energyUseDataSummaryInfo/1/5/2015~2024/01/\"\n",
        "api_key= \"744c616456616c7339396e58517964\"\n",
        "\n",
        "# 5️⃣ 'YEAR', 'MON' 컬럼을 활용하여 새로운 '연도', '계절' 컬럼 추가\n",
        "def get_season(month):\n",
        "    month = int(month)\n",
        "    if month in [1, 2, 12]:\n",
        "        return '겨울'\n",
        "    elif month in [3, 4, 5]:\n",
        "        return '봄'\n",
        "    elif month in [6, 7, 8]:\n",
        "        return '여름'\n",
        "    else:\n",
        "        return '가을'\n",
        "\n",
        "df['연도'] = df['YEAR']\n",
        "df['계절'] = df['MON'].apply(get_season)\n",
        "\n",
        "# 6️⃣ 변환된 결과 확인\n",
        "print(\"\\n✅ 계절 컬럼 추가 완료:\")\n",
        "print(df[['YEAR', 'MON', '연도', '계절']].head())\n",
        "\n"
      ],
      "metadata": {
        "id": "Cx989T8k-qII",
        "outputId": "8838a58b-eb8a-4c1f-c302-8ce8e2f821c5",
        "colab": {
          "base_uri": "https://localhost:8080/"
        }
      },
      "execution_count": 60,
      "outputs": [
        {
          "output_type": "stream",
          "name": "stdout",
          "text": [
            "\n",
            "✅ 계절 컬럼 추가 완료:\n",
            "   YEAR MON    연도  계절\n",
            "0  2025  06  2025  여름\n",
            "1  2025  06  2025  여름\n",
            "2  2025  06  2025  여름\n",
            "3  2025  06  2025  여름\n",
            "4  2025  06  2025  여름\n"
          ]
        }
      ]
    }
  ]
}