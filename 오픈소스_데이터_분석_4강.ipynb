{
  "nbformat": 4,
  "nbformat_minor": 0,
  "metadata": {
    "colab": {
      "provenance": [],
      "include_colab_link": true
    },
    "kernelspec": {
      "name": "python3",
      "display_name": "Python 3"
    },
    "language_info": {
      "name": "python"
    }
  },
  "cells": [
    {
      "cell_type": "markdown",
      "metadata": {
        "id": "view-in-github",
        "colab_type": "text"
      },
      "source": [
        "<a href=\"https://colab.research.google.com/github/seongheepark22/Data-Analysis-with-Open-Source/blob/main/%EC%98%A4%ED%94%88%EC%86%8C%EC%8A%A4_%EB%8D%B0%EC%9D%B4%ED%84%B0_%EB%B6%84%EC%84%9D_4%EA%B0%95.ipynb\" target=\"_parent\"><img src=\"https://colab.research.google.com/assets/colab-badge.svg\" alt=\"Open In Colab\"/></a>"
      ]
    },
    {
      "cell_type": "markdown",
      "source": [
        "\n",
        "\n",
        "# 오픈소스 기반 데이터 분석 4강 - 데이터 수집\n"
      ],
      "metadata": {
        "id": "DkPKaAsoRq5Q"
      }
    },
    {
      "cell_type": "markdown",
      "source": [
        "## 4-1 CSV 파일 읽기"
      ],
      "metadata": {
        "id": "-I7BVVlnRrB0"
      }
    },
    {
      "cell_type": "code",
      "source": [
        "import pandas as pd\n",
        "\n",
        "## data.csv 파일 읽기\n",
        "df = pd.read_csv('data.csv')\n",
        "\n",
        "print(df)"
      ],
      "metadata": {
        "id": "2Y2HEiaiRwAI",
        "outputId": "0c3306e5-1f94-4905-dfa3-16e86987affd",
        "colab": {
          "base_uri": "https://localhost:8080/"
        }
      },
      "execution_count": null,
      "outputs": [
        {
          "output_type": "stream",
          "name": "stdout",
          "text": [
            "           날짜    체중  골격근량  체지방량\n",
            "0  2025.02.06  64.7  30.0  11.1\n",
            "1  2025.02.04  64.0  29.3  11.6\n"
          ]
        }
      ]
    },
    {
      "cell_type": "markdown",
      "source": [
        "## 4-2 JSON 파일 읽기\n",
        "\n"
      ],
      "metadata": {
        "id": "9kHCFaGlRrE0"
      }
    },
    {
      "cell_type": "code",
      "source": [
        "import json\n",
        "import pandas as pd\n",
        "\n",
        "## data.json 파일 출력\n",
        "\n",
        "## data.json 파일 DataFrame 읽기\n",
        "\n",
        "print(df)"
      ],
      "metadata": {
        "id": "IO8bsKekR0W_"
      },
      "execution_count": null,
      "outputs": []
    },
    {
      "cell_type": "markdown",
      "source": [
        "## 4-3 텍스트 파일 읽기 및 데이터 추출"
      ],
      "metadata": {
        "id": "uLd_3A_IRrHG"
      }
    },
    {
      "cell_type": "code",
      "source": [
        "import re\n",
        "\n",
        "## 파일(callcenter20250301.log) 오픈 및 읽기\n",
        "with open('callcenter20250301.log', 'r', encoding='utf-8') as f:\n",
        "    content = f.read()\n",
        "## 주민등록번호 패턴 생성\n",
        "\n",
        "## 주민등록번호 마스킹\n",
        "\n",
        "\n",
        "## 마스킹된 파일(callcenter20250301_masked.log) 오픈 및 쓰기\n",
        "\n",
        "\n",
        "print(\"주민등록번호 마스킹 완료. 'callcenter20250301_masked.log.txt' 파일로 저장되었습니다.\")"
      ],
      "metadata": {
        "id": "60qOf7uxVdAg"
      },
      "execution_count": null,
      "outputs": []
    },
    {
      "cell_type": "markdown",
      "source": [
        "## 4-4 Open-Meteo의 무료 날씨 API를 통한 특정 지역 온도 조회"
      ],
      "metadata": {
        "id": "eOMufu5SXiAU"
      }
    },
    {
      "cell_type": "code",
      "source": [
        "import requests\n",
        "import json\n",
        "\n",
        "url = \"https://api.open-meteo.com/v1/forecast?=&=&current=temperature_2m\"\n",
        "params = {\n",
        "    \"latitude\": \"37.58638333\",\n",
        "    \"longitude\": \"127.0203333\",\n",
        "    \"current\": \"temperature_2m\"\n",
        "}\n",
        "\n",
        "try:\n",
        "    ## URL 및 파라미터 전송\n",
        "\n",
        "    ## JSON 데이터 읽기\n",
        "\n",
        "    print(\"API 응답:\", data)\n",
        "    print(\"서울시 종로구의 현재 온도는 : {0}{1} 입니다.\".format(data['current']['temperature_2m'], data['current_units']['temperature_2m']))\n",
        "\n",
        "except requests.exceptions.RequestException as e:\n",
        "    print(f\"API 호출 실패: {e}\")\n",
        "except json.JSONDecodeError as e:\n",
        "    print(f\"JSON 파싱 실패: {e}\")"
      ],
      "metadata": {
        "id": "JpmgdsW9V0CY"
      },
      "execution_count": null,
      "outputs": []
    },
    {
      "cell_type": "markdown",
      "source": [
        "## 4-5 Selenium과 lxml을 이용한 웹 스크래핑"
      ],
      "metadata": {
        "id": "RLfPaa1ZiqIC"
      }
    },
    {
      "cell_type": "code",
      "source": [
        "!curl -o google-chrome-stable_current_amd64.deb https://dl.google.com/linux/direct/google-chrome-stable_current_amd64.deb\n",
        "!apt install ./google-chrome-stable_current_amd64.deb -y\n",
        "!pip install selenium webdriver_manager"
      ],
      "metadata": {
        "id": "79dmM7MNk8pB"
      },
      "execution_count": null,
      "outputs": []
    },
    {
      "cell_type": "code",
      "source": [
        "from selenium import webdriver\n",
        "from selenium.webdriver.chrome.service import Service as ChromeService\n",
        "from webdriver_manager.chrome import ChromeDriverManager\n",
        "from selenium.webdriver.common.by import By\n",
        "from lxml import html\n",
        "import time\n",
        "\n",
        "chrome_options = webdriver.ChromeOptions()\n",
        "chrome_options.add_argument('--headless')               # 브라우저 창 없이 실행\n",
        "chrome_options.add_argument('--no-sandbox')             # 보안모드 비활성화 (Colab 필수)\n",
        "chrome_options.add_argument('--disable-dev-shm-usage')  # 메모리 부족 방지 (Colab 필수)\n",
        "chrome_options.add_argument('--window-size=1920x1080')  # 창 크기 설정(가상)\n",
        "chrome_options.add_argument('--disable-gpu')            # GPU 가속 비활성화 (일부 환경 안정성)\n",
        "chrome_options.binary_location = \"/usr/bin/google-chrome-stable\"  # Colab용 크롬 경로 지정\n",
        "\n",
        "## 드라이버 실행\n",
        "driver = webdriver.Chrome(options=chrome_options)\n",
        "\n",
        "## 사이트 접속\n",
        "\n",
        "\n",
        "## 사이트 접속 대기\n",
        "\n",
        "\n",
        "## 페이지 제목 출력\n",
        "\n",
        "\n",
        "## 드라이버 종료\n",
        "driver.quit()"
      ],
      "metadata": {
        "id": "cRC8x3_iW0im"
      },
      "execution_count": null,
      "outputs": []
    },
    {
      "cell_type": "markdown",
      "source": [
        "\n",
        "# 실습 시나리오"
      ],
      "metadata": {
        "id": "Bu6OMZyGirOq"
      }
    },
    {
      "cell_type": "markdown",
      "source": [
        "## 공공데이터 포털 가입 및 데이터 신청\n",
        "\n",
        "- [https://www.data.go.kr](https://www.data.go.kr)\n",
        "- 한국환경공단 에어코리아 대기오염정보 데이터 신청"
      ],
      "metadata": {
        "id": "nsuqRN9RkZlW"
      }
    },
    {
      "cell_type": "code",
      "source": [
        "import requests\n",
        "import pandas as pd\n",
        "from datetime import datetime\n",
        "\n",
        "# 1️⃣ 인증키 입력 (본인 인증키로 교체)\n",
        "API_KEY = \"http://openapi.seoul.go.kr:8088/744c616456616c7339396e58517964/json/energyUseDataSummaryInfo/1/5/%20/%20/\"\n",
        "api_key= \"744c616456616c7339396e58517964\"\n",
        "\n",
        "# 2️⃣ 데이터 저장용 리스트 생성\n",
        "data_list = []\n",
        "\n",
        "# 3️⃣ 2015년 1월부터 2024년 12월까지 반복\n",
        "for year in range(2015, 2025):\n",
        "    for month in range(1, 13):\n",
        "        url = f\"http://openapi.seoul.go.kr:8088/744c616456616c7339396e58517964/json/energyUseDataSummaryInfo/1/5/%20/%20/\"\n",
        "        response = requests.get(url)\n",
        "\n",
        "        if response.status_code == 200:\n",
        "            data = response.json()\n",
        "            if \"energyUseDataSummaryInfo\" in data:\n",
        "                rows = data[\"energyUseDataSummaryInfo\"][\"row\"]\n",
        "                data_list.extend(rows)\n",
        "        else:\n",
        "            print(f\"❌ {year}-{month:02d} 요청 실패\")\n",
        "\n",
        "# 4️⃣ pandas DataFrame으로 변환\n",
        "df = pd.DataFrame(data_list)\n",
        "\n",
        "# 5️⃣ 데이터 확인\n",
        "print(df.head())\n",
        "print(f\"\\n총 {len(df)}개의 데이터 수집 완료!\")\n",
        "\n",
        "# 6️⃣ CSV 파일로 저장 (선택사항)\n",
        "df.to_csv(\"seoul_energy_use_2015_2024.csv\", index=False, encoding='utf-8-sig')"
      ],
      "metadata": {
        "id": "7yCozmQeXJcO",
        "outputId": "2257abf4-fa01-423f-9dd2-4c649763f2b3",
        "colab": {
          "base_uri": "https://localhost:8080/"
        }
      },
      "execution_count": 3,
      "outputs": [
        {
          "output_type": "stream",
          "name": "stdout",
          "text": [
            "   YEAR MON  MM_TYPE      CNT        EUS       EUS1       EUS2      ECO2_1  \\\n",
            "0  2025  06       개인  1269454  278745288  275851011  273151435     4244065   \n",
            "1  2025  06       학교     6745  117808793  114793127  114623246   3100606.5   \n",
            "2  2025  06  공동주택관리소     3729  498863841  496003195  488758810   6482838.5   \n",
            "3  2025  06     종교단체      849    6205342    6171454    6094109     72560.5   \n",
            "4  2025  06     소상공인    53274   96254029   98122772   98464917  -2039815.5   \n",
            "\n",
            "        ECO2_2       GUS  ...        WUS1        WUS2     WCO2_1       WCO2_2  \\\n",
            "0  2076623.656  13084768  ...  15166284.8  15371662.2  -341289.9  -611822.446   \n",
            "1  3096973.668   2093441  ...   1914804.2   1956560.2    -111344  -333633.134   \n",
            "2    6482838.5   2853437  ...  20616193.4  20794568.4  -297568.2    -892704.6   \n",
            "3      72560.5    139336  ...       51779       49094     1791.5       5374.5   \n",
            "4  -2043866.22   1638563  ...   1541313.8   1576869.2   -32353.7   -97437.288   \n",
            "\n",
            "         HUS        HUS1        HUS2    HCO2_1           HCO2_2  \\\n",
            "0  379182.22  368839.049  389847.167  -160.888  -22448.67848156   \n",
            "1       8.03        8.03        8.03         0                0   \n",
            "2          0           0           0         0                0   \n",
            "3          0           0           0         0                0   \n",
            "4          2           2           2         0                0   \n",
            "\n",
            "                REG_DATE  \n",
            "0  2025-09-01 04:02:15.0  \n",
            "1  2025-09-01 04:02:15.0  \n",
            "2  2025-09-01 04:02:15.0  \n",
            "3  2025-09-01 04:02:15.0  \n",
            "4  2025-09-01 04:02:15.0  \n",
            "\n",
            "[5 rows x 25 columns]\n",
            "\n",
            "총 600개의 데이터 수집 완료!\n"
          ]
        }
      ]
    }
  ]
}